{
 "cells": [
  {
   "cell_type": "markdown",
   "id": "f79e3a8c",
   "metadata": {},
   "source": [
    "# Morphological Generation for ግድል"
   ]
  },
  {
   "cell_type": "markdown",
   "id": "6072d249",
   "metadata": {},
   "source": [
    "## Import Libraries"
   ]
  },
  {
   "cell_type": "code",
   "execution_count": 25,
   "id": "1c045e03",
   "metadata": {},
   "outputs": [],
   "source": [
    "import itertools\n",
    "import pandas as pd"
   ]
  },
  {
   "cell_type": "markdown",
   "id": "73ae0ef7",
   "metadata": {},
   "source": [
    "## Raw Word List"
   ]
  },
  {
   "cell_type": "code",
   "execution_count": 26,
   "id": "45b128ae",
   "metadata": {},
   "outputs": [],
   "source": [
    "import json\n",
    "\n",
    "with open('../data/raw.json', 'r') as f:\n",
    "    raw_patterns_list = json.load(f)['patterns']\n",
    "\n",
    "raw_patterns = \"\\n\".join(raw_patterns_list)"
   ]
  },
  {
   "cell_type": "markdown",
   "id": "a9677e1a",
   "metadata": {},
   "source": [
    "## Conversion to RegEx"
   ]
  },
  {
   "cell_type": "code",
   "execution_count": 27,
   "id": "64990de8",
   "metadata": {},
   "outputs": [],
   "source": [
    "import re\n",
    "\n",
    "def convert_rule(rule: str) -> str:\n",
    "    # Strip all square brackets and whitespace\n",
    "    text = rule.replace('[', '').replace(']', '').replace(' ', '')\n",
    "\n",
    "    # Replace stem groups {a,b,...} -> non-capturing group (?:a|b|...)\n",
    "    def stem_repl(m: re.Match) -> str:\n",
    "        options = m.group(1).split(',')\n",
    "        return f\"(?:{'|'.join(options)})\"\n",
    "\n",
    "    text = re.sub(r\"\\{([^}]+)\\}\", stem_repl, text)\n",
    "\n",
    "    # Replace affix groups (a,b,...) -> non-capturing group (?:a|b|...)\n",
    "    def affix_repl(m: re.Match) -> str:\n",
    "        options = m.group(1).split(',')\n",
    "        return f\"(?:{'|'.join(options)})\"\n",
    "\n",
    "    text = re.sub(r\"\\(([^)]+)\\)\", affix_repl, text)\n",
    "\n",
    "    # Remove concatenation markers\n",
    "    text = text.replace('+', '')\n",
    "\n",
    "    return text\n",
    "\n",
    "\n",
    "# Process each pattern\n",
    "patterns = [convert_rule(r) for r in raw_patterns_list]\n",
    "combined = '^(' + '|'.join(patterns) + ')$'"
   ]
  },
  {
   "cell_type": "markdown",
   "id": "4ce7fe32",
   "metadata": {},
   "source": [
    "## Tabulated Word List"
   ]
  },
  {
   "cell_type": "code",
   "execution_count": 28,
   "id": "f4c5a774",
   "metadata": {},
   "outputs": [
    {
     "data": {
      "application/vnd.microsoft.datawrangler.viewer.v0+json": {
       "columns": [
        {
         "name": "index",
         "rawType": "int64",
         "type": "integer"
        },
        {
         "name": "prefix_1",
         "rawType": "object",
         "type": "string"
        },
        {
         "name": "prefix_2",
         "rawType": "object",
         "type": "string"
        },
        {
         "name": "prefix_3",
         "rawType": "object",
         "type": "string"
        },
        {
         "name": "stem",
         "rawType": "object",
         "type": "string"
        },
        {
         "name": "suffix_1",
         "rawType": "object",
         "type": "string"
        },
        {
         "name": "suffix_2",
         "rawType": "object",
         "type": "string"
        },
        {
         "name": "suffix_3",
         "rawType": "object",
         "type": "string"
        },
        {
         "name": "full_word",
         "rawType": "object",
         "type": "string"
        }
       ],
       "ref": "920a6f1b-1f95-441e-84f5-b33257e6a99a",
       "rows": [
        [
         "0",
         "",
         "",
         "የ",
         "ግድያ",
         "",
         "",
         "",
         "የግድያ"
        ],
        [
         "1",
         "",
         "",
         "በ",
         "ግድያ",
         "",
         "",
         "",
         "በግድያ"
        ],
        [
         "2",
         "",
         "",
         "ከ",
         "ግድያ",
         "",
         "",
         "",
         "ከግድያ"
        ],
        [
         "3",
         "",
         "",
         "ስለ",
         "ግድያ",
         "",
         "",
         "",
         "ስለግድያ"
        ],
        [
         "4",
         "",
         "",
         "የ",
         "ግድያ",
         "ን",
         "",
         "",
         "የግድያን"
        ],
        [
         "5",
         "",
         "",
         "የ",
         "ግድያ",
         "ም",
         "",
         "",
         "የግድያም"
        ],
        [
         "6",
         "",
         "",
         "የ",
         "ግድያ",
         "ስ",
         "",
         "",
         "የግድያስ"
        ],
        [
         "7",
         "",
         "",
         "በ",
         "ግድያ",
         "ም",
         "",
         "",
         "በግድያም"
        ],
        [
         "8",
         "",
         "",
         "በ",
         "ግድያ",
         "ስ",
         "",
         "",
         "በግድያስ"
        ],
        [
         "9",
         "",
         "",
         "ከ",
         "ግድያ",
         "ም",
         "",
         "",
         "ከግድያም"
        ]
       ],
       "shape": {
        "columns": 8,
        "rows": 10
       }
      },
      "text/html": [
       "<div>\n",
       "<style scoped>\n",
       "    .dataframe tbody tr th:only-of-type {\n",
       "        vertical-align: middle;\n",
       "    }\n",
       "\n",
       "    .dataframe tbody tr th {\n",
       "        vertical-align: top;\n",
       "    }\n",
       "\n",
       "    .dataframe thead th {\n",
       "        text-align: right;\n",
       "    }\n",
       "</style>\n",
       "<table border=\"1\" class=\"dataframe\">\n",
       "  <thead>\n",
       "    <tr style=\"text-align: right;\">\n",
       "      <th></th>\n",
       "      <th>prefix_1</th>\n",
       "      <th>prefix_2</th>\n",
       "      <th>prefix_3</th>\n",
       "      <th>stem</th>\n",
       "      <th>suffix_1</th>\n",
       "      <th>suffix_2</th>\n",
       "      <th>suffix_3</th>\n",
       "      <th>full_word</th>\n",
       "    </tr>\n",
       "  </thead>\n",
       "  <tbody>\n",
       "    <tr>\n",
       "      <th>0</th>\n",
       "      <td></td>\n",
       "      <td></td>\n",
       "      <td>የ</td>\n",
       "      <td>ግድያ</td>\n",
       "      <td></td>\n",
       "      <td></td>\n",
       "      <td></td>\n",
       "      <td>የግድያ</td>\n",
       "    </tr>\n",
       "    <tr>\n",
       "      <th>1</th>\n",
       "      <td></td>\n",
       "      <td></td>\n",
       "      <td>በ</td>\n",
       "      <td>ግድያ</td>\n",
       "      <td></td>\n",
       "      <td></td>\n",
       "      <td></td>\n",
       "      <td>በግድያ</td>\n",
       "    </tr>\n",
       "    <tr>\n",
       "      <th>2</th>\n",
       "      <td></td>\n",
       "      <td></td>\n",
       "      <td>ከ</td>\n",
       "      <td>ግድያ</td>\n",
       "      <td></td>\n",
       "      <td></td>\n",
       "      <td></td>\n",
       "      <td>ከግድያ</td>\n",
       "    </tr>\n",
       "    <tr>\n",
       "      <th>3</th>\n",
       "      <td></td>\n",
       "      <td></td>\n",
       "      <td>ስለ</td>\n",
       "      <td>ግድያ</td>\n",
       "      <td></td>\n",
       "      <td></td>\n",
       "      <td></td>\n",
       "      <td>ስለግድያ</td>\n",
       "    </tr>\n",
       "    <tr>\n",
       "      <th>4</th>\n",
       "      <td></td>\n",
       "      <td></td>\n",
       "      <td>የ</td>\n",
       "      <td>ግድያ</td>\n",
       "      <td>ን</td>\n",
       "      <td></td>\n",
       "      <td></td>\n",
       "      <td>የግድያን</td>\n",
       "    </tr>\n",
       "    <tr>\n",
       "      <th>5</th>\n",
       "      <td></td>\n",
       "      <td></td>\n",
       "      <td>የ</td>\n",
       "      <td>ግድያ</td>\n",
       "      <td>ም</td>\n",
       "      <td></td>\n",
       "      <td></td>\n",
       "      <td>የግድያም</td>\n",
       "    </tr>\n",
       "    <tr>\n",
       "      <th>6</th>\n",
       "      <td></td>\n",
       "      <td></td>\n",
       "      <td>የ</td>\n",
       "      <td>ግድያ</td>\n",
       "      <td>ስ</td>\n",
       "      <td></td>\n",
       "      <td></td>\n",
       "      <td>የግድያስ</td>\n",
       "    </tr>\n",
       "    <tr>\n",
       "      <th>7</th>\n",
       "      <td></td>\n",
       "      <td></td>\n",
       "      <td>በ</td>\n",
       "      <td>ግድያ</td>\n",
       "      <td>ም</td>\n",
       "      <td></td>\n",
       "      <td></td>\n",
       "      <td>በግድያም</td>\n",
       "    </tr>\n",
       "    <tr>\n",
       "      <th>8</th>\n",
       "      <td></td>\n",
       "      <td></td>\n",
       "      <td>በ</td>\n",
       "      <td>ግድያ</td>\n",
       "      <td>ስ</td>\n",
       "      <td></td>\n",
       "      <td></td>\n",
       "      <td>በግድያስ</td>\n",
       "    </tr>\n",
       "    <tr>\n",
       "      <th>9</th>\n",
       "      <td></td>\n",
       "      <td></td>\n",
       "      <td>ከ</td>\n",
       "      <td>ግድያ</td>\n",
       "      <td>ም</td>\n",
       "      <td></td>\n",
       "      <td></td>\n",
       "      <td>ከግድያም</td>\n",
       "    </tr>\n",
       "  </tbody>\n",
       "</table>\n",
       "</div>"
      ],
      "text/plain": [
       "  prefix_1 prefix_2 prefix_3 stem suffix_1 suffix_2 suffix_3 full_word\n",
       "0                          የ  ግድያ                                 የግድያ\n",
       "1                          በ  ግድያ                                 በግድያ\n",
       "2                          ከ  ግድያ                                 ከግድያ\n",
       "3                         ስለ  ግድያ                                ስለግድያ\n",
       "4                          የ  ግድያ        ን                       የግድያን\n",
       "5                          የ  ግድያ        ም                       የግድያም\n",
       "6                          የ  ግድያ        ስ                       የግድያስ\n",
       "7                          በ  ግድያ        ም                       በግድያም\n",
       "8                          በ  ግድያ        ስ                       በግድያስ\n",
       "9                          ከ  ግድያ        ም                       ከግድያም"
      ]
     },
     "execution_count": 28,
     "metadata": {},
     "output_type": "execute_result"
    }
   ],
   "source": [
    "# Regex to split into segments, ignoring separators\n",
    "SEG_RE = re.compile(r'(\\{[^}]*\\}|\\([^)]*\\)|[^(){}\\[\\],+]+)')\n",
    "\n",
    "generated = []  # will hold dicts with lists: prefixes, stem, suffixes, full_word\n",
    "\n",
    "# Parse and generate combinations\n",
    "for line in raw_patterns.splitlines():\n",
    "    txt = line.strip()\n",
    "    if not txt or txt.startswith('#'):\n",
    "        continue\n",
    "    if txt.startswith('[') and txt.endswith(']'):\n",
    "        txt = txt[1:-1]\n",
    "\n",
    "    raw_segs = SEG_RE.findall(txt)\n",
    "    options = []\n",
    "    stem_idx = None\n",
    "    for idx, seg in enumerate(raw_segs):\n",
    "        seg = seg.strip()\n",
    "        if not seg:\n",
    "            continue\n",
    "        if seg.startswith('{') and seg.endswith('}'):\n",
    "            opts = [s.strip() for s in seg[1:-1].split(',') if s.strip()]\n",
    "            stem_idx = idx\n",
    "        elif seg.startswith('(') and seg.endswith(')'):\n",
    "            opts = [s.strip() for s in seg[1:-1].split(',') if s.strip()]\n",
    "        else:\n",
    "            opts = [seg]\n",
    "        options.append(opts)\n",
    "\n",
    "    for combo in itertools.product(*options):\n",
    "        if stem_idx is not None:\n",
    "            prefixes = list(combo[:stem_idx])\n",
    "            stem = combo[stem_idx]\n",
    "            suffixes = list(combo[stem_idx+1:])\n",
    "        else:\n",
    "            prefixes = list(combo[:-1])\n",
    "            stem = combo[-1]\n",
    "            suffixes = []\n",
    "        generated.append({\n",
    "            'prefixes': prefixes,\n",
    "            'stem': stem,\n",
    "            'suffixes': suffixes,\n",
    "            'full_word': ''.join(combo)\n",
    "        })\n",
    "\n",
    "# Determine maximum prefix/suffix lengths\n",
    "max_pre = max((len(item['prefixes']) for item in generated), default=0)\n",
    "max_suf = max((len(item['suffixes']) for item in generated), default=0)\n",
    "\n",
    "# Build final rows with right-aligned prefixes and left-aligned suffixes\n",
    "rows = []\n",
    "for item in generated:\n",
    "    row = {}\n",
    "    # right-align prefixes into prefix_1...prefix_N\n",
    "    k = len(item['prefixes'])\n",
    "    for i in range(1, max_pre+1):\n",
    "        # position in item['prefixes'] is offset: idx = i - (max_pre - k) - 1\n",
    "        idx = i - (max_pre - k) - 1\n",
    "        row[f'prefix_{i}'] = item['prefixes'][idx] if 0 <= idx < k else ''\n",
    "    # stem centered (single column)\n",
    "    row['stem'] = item['stem']\n",
    "    # left-align suffixes: fill suffix_1...suffix_M in order\n",
    "    for j in range(1, max_suf+1):\n",
    "        row[f'suffix_{j}'] = item['suffixes'][j-1] if j-1 < len(item['suffixes']) else ''\n",
    "    row['full_word'] = item['full_word']\n",
    "    rows.append(row)\n",
    "\n",
    "# Assemble DataFrame with ordered columns\n",
    "cols = [f'prefix_{i}' for i in range(1, max_pre+1)] + ['stem'] + [f'suffix_{j}' for j in range(1, max_suf+1)] + ['full_word']\n",
    "df = pd.DataFrame(rows, columns=cols)\n",
    "\n",
    "# Display table\n",
    "df.head(10)"
   ]
  },
  {
   "cell_type": "markdown",
   "id": "39b4c4dc",
   "metadata": {},
   "source": [
    "## Total Word Count"
   ]
  },
  {
   "cell_type": "code",
   "execution_count": 29,
   "id": "e9ce60a6",
   "metadata": {},
   "outputs": [
    {
     "name": "stdout",
     "output_type": "stream",
     "text": [
      "Total number of words generated: 7326 unique words\n"
     ]
    }
   ],
   "source": [
    "print(f\"Total number of words generated: {df.__len__()} unique words\")"
   ]
  },
  {
   "cell_type": "markdown",
   "id": "0524c1e2",
   "metadata": {},
   "source": [
    "## Export Words to CSV"
   ]
  },
  {
   "cell_type": "code",
   "execution_count": 30,
   "id": "6a23827c",
   "metadata": {},
   "outputs": [],
   "source": [
    "df.to_csv('../output/word_list.csv', index=False)"
   ]
  }
 ],
 "metadata": {
  "kernelspec": {
   "display_name": "miscellaneous-nlp-projects",
   "language": "python",
   "name": "python3"
  },
  "language_info": {
   "codemirror_mode": {
    "name": "ipython",
    "version": 3
   },
   "file_extension": ".py",
   "mimetype": "text/x-python",
   "name": "python",
   "nbconvert_exporter": "python",
   "pygments_lexer": "ipython3",
   "version": "3.12.11"
  }
 },
 "nbformat": 4,
 "nbformat_minor": 5
}
