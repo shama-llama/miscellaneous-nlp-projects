{
 "cells": [
  {
   "cell_type": "markdown",
   "id": "f79e3a8c",
   "metadata": {},
   "source": [
    "## Morphological Analysis for ግድል"
   ]
  },
  {
   "cell_type": "code",
   "execution_count": null,
   "id": "490b0d02",
   "metadata": {},
   "outputs": [],
   "source": [
    "ግድል-[ያ]\n",
    "\n",
    "[እ]-ገድል-[ኣችሁ,ህ,ሽ,ኧው,ኣት,ኣቸው]-[ኣለሁ]\n",
    "[እን]-ገድል-[ኣችሁ,ህ,ሽ,ኧው,ኣት,ኣቸው]-[ኣለን]\n",
    "[ት]-ገድል-[ኧኝ,ኧን,ኧው,ኣት,ኣቸው]-[ኣለህ]\n",
    "[ት]-ገድል-ይ-[ኝ,ን,ው,ኣት,ኣቸው]-[ኣለሽ]\n",
    "[ት]-ገድል-[ኡኝ,ኡን,ኡት,ዋት,ዋችሁ]-[ኣላችሁ]\n",
    "[ይ]-ገድል-[ኡኝ,ኡን,ኣችሁ,ኡህ,ኡሽ,ኡት,ዋት,ዋችሁ]-[ኣል]\n",
    "[ት]-ገድል-[ኧኝ,ኧን,ኣችሁ,ህ,ሽ,ኧው,ኣት,ኣቸው]-[ኣለች]\n",
    "[አት]-ገድል-[ኧኝ,ኧን,ኣችሁ,ህ,ሽ,ኧው,ኣት,ኣቸው]-[ም]\n",
    "[ይ]-ገድል-[ኣሉ]\n",
    "\n",
    "[አል]-ገድል-ም\n",
    "[ሳል]-ገድል\n",
    "ገድል-[ዬ]-[ህ,ሽ,ኣችሁ,ኧው,ኣት,ኣቸው]-[ኣለሁ]\n",
    "ገድል-[ኧን]-[ህ,ሽ,ኣችሁ,ኧው,ኣት,ኣቸው]-[ኣል]\n",
    "ገድል-[ዬ,ኧን,ኧህ,ኧሽ,ኣችሁ,ኦ,ኣ,ኧው]-[ህ,ሽ,ኣችሁ,ኧው,ኣት,ኣቸው]\n",
    "[ተ]-ገድል-[ያለሁ]\n",
    "[ተ]-ገድል-[ዬ]"
   ]
  },
  {
   "cell_type": "code",
   "execution_count": null,
   "id": "6952ffee",
   "metadata": {},
   "outputs": [],
   "source": [
    "[መ,አለመ]-ገደል\n",
    "\n",
    "[እ-ገደል-ኣለሁ\n",
    "[አል-ገደል-እም\n",
    "[አል-ገደል-ኩም\n",
    "[አልተ-ገደል-ኩም\n",
    "[ሳል-ገደል\n",
    "[እየ-ገደል-ኩ\n",
    "\n",
    "[እየ]-[ተ]-ገደል-[ኩ,ን,ክ,ሽ,ኣችሁ,ኧ,ኧች,ኡ]"
   ]
  },
  {
   "cell_type": "code",
   "execution_count": null,
   "id": "25113bbc",
   "metadata": {},
   "outputs": [],
   "source": [
    "[ከ,ስለ]-[መ,አለመ]-ግደል"
   ]
  },
  {
   "cell_type": "code",
   "execution_count": null,
   "id": "dbffee16",
   "metadata": {},
   "outputs": [],
   "source": [
    "[ከ,ስለ]-[መ,አለመ]-ገዳደል-[ኣችን,ኣችሁ,ኣቸው]\n",
    "ከ-ተ-ገዳደል-[ን,ኣችሁ,ኡ]"
   ]
  }
 ],
 "metadata": {
  "kernelspec": {
   "display_name": ".venv",
   "language": "python",
   "name": "python3"
  },
  "language_info": {
   "codemirror_mode": {
    "name": "ipython",
    "version": 3
   },
   "file_extension": ".py",
   "mimetype": "text/x-python",
   "name": "python",
   "nbconvert_exporter": "python",
   "pygments_lexer": "ipython3",
   "version": "3.13.3"
  }
 },
 "nbformat": 4,
 "nbformat_minor": 5
}
